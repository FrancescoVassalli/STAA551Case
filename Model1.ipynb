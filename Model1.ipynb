{
 "cells": [
  {
   "cell_type": "code",
   "execution_count": 65,
   "metadata": {},
   "outputs": [
    {
     "name": "stderr",
     "output_type": "stream",
     "text": [
      "Loading required package: carData\n",
      "\n",
      "Attaching package: 'car'\n",
      "\n",
      "The following object is masked from 'package:dplyr':\n",
      "\n",
      "    recode\n",
      "\n",
      "The following object is masked from 'package:purrr':\n",
      "\n",
      "    some\n",
      "\n",
      "Parsed with column specification:\n",
      "cols(\n",
      "  Price = col_double(),\n",
      "  Age = col_double(),\n",
      "  Mfg_Year = col_double(),\n",
      "  KM = col_double(),\n",
      "  Fuel_Type = col_character(),\n",
      "  HP = col_double(),\n",
      "  Metallic = col_double(),\n",
      "  Automatic = col_double(),\n",
      "  CC = col_double(),\n",
      "  Doors = col_double(),\n",
      "  Gears = col_double(),\n",
      "  QuartTax = col_double(),\n",
      "  Weight = col_double(),\n",
      "  Guarantee = col_double(),\n",
      "  BOVAG = col_double(),\n",
      "  Period = col_double(),\n",
      "  KM.sqrt = col_double(),\n",
      "  Doors_clean = col_logical(),\n",
      "  Fuel_clean = col_character()\n",
      ")\n",
      "Warning message:\n",
      "\"1 parsing failure.\n",
      "row col   expected     actual                    file\n",
      "  1  -- 19 columns 18 columns 'cleanedToyotadata.csv'\n",
      "\""
     ]
    },
    {
     "data": {
      "text/html": [
       "<table>\n",
       "<thead><tr><th scope=col>Price</th><th scope=col>Age</th><th scope=col>Mfg_Year</th><th scope=col>KM</th><th scope=col>Fuel_Type</th><th scope=col>HP</th><th scope=col>Metallic</th><th scope=col>Automatic</th><th scope=col>CC</th><th scope=col>Doors</th><th scope=col>Gears</th><th scope=col>QuartTax</th><th scope=col>Weight</th><th scope=col>Guarantee</th><th scope=col>BOVAG</th><th scope=col>Period</th><th scope=col>KM.sqrt</th><th scope=col>Doors_clean</th><th scope=col>Fuel_clean</th></tr></thead>\n",
       "<tbody>\n",
       "\t<tr><td>13500   </td><td>23      </td><td>2002    </td><td>46986   </td><td>Diesel  </td><td>90      </td><td>1       </td><td>0       </td><td>2000    </td><td>3       </td><td>5       </td><td>210     </td><td>1165    </td><td>0       </td><td>1       </td><td>3       </td><td>216.7625</td><td>NA      </td><td>NA      </td></tr>\n",
       "</tbody>\n",
       "</table>\n"
      ],
      "text/latex": [
       "\\begin{tabular}{r|lllllllllllllllllll}\n",
       " Price & Age & Mfg\\_Year & KM & Fuel\\_Type & HP & Metallic & Automatic & CC & Doors & Gears & QuartTax & Weight & Guarantee & BOVAG & Period & KM.sqrt & Doors\\_clean & Fuel\\_clean\\\\\n",
       "\\hline\n",
       "\t 13500    & 23       & 2002     & 46986    & Diesel   & 90       & 1        & 0        & 2000     & 3        & 5        & 210      & 1165     & 0        & 1        & 3        & 216.7625 & NA       & NA      \\\\\n",
       "\\end{tabular}\n"
      ],
      "text/markdown": [
       "\n",
       "| Price | Age | Mfg_Year | KM | Fuel_Type | HP | Metallic | Automatic | CC | Doors | Gears | QuartTax | Weight | Guarantee | BOVAG | Period | KM.sqrt | Doors_clean | Fuel_clean |\n",
       "|---|---|---|---|---|---|---|---|---|---|---|---|---|---|---|---|---|---|---|\n",
       "| 13500    | 23       | 2002     | 46986    | Diesel   | 90       | 1        | 0        | 2000     | 3        | 5        | 210      | 1165     | 0        | 1        | 3        | 216.7625 | NA       | NA       |\n",
       "\n"
      ],
      "text/plain": [
       "  Price Age Mfg_Year KM    Fuel_Type HP Metallic Automatic CC   Doors Gears\n",
       "1 13500 23  2002     46986 Diesel    90 1        0         2000 3     5    \n",
       "  QuartTax Weight Guarantee BOVAG Period KM.sqrt  Doors_clean Fuel_clean\n",
       "1 210      1165   0         1     3      216.7625 NA          NA        "
      ]
     },
     "metadata": {},
     "output_type": "display_data"
    }
   ],
   "source": [
    "neededPackages <- c(\"tidyverse\"\n",
    "                   , \"magrittr\"\n",
    "                   , \"rstudioapi\"\n",
    "                   , \"rlang\"\n",
    "                   , \"ggplot2\"\n",
    "                    ,\"reshape2\"\n",
    "                    ,\"car\"\n",
    "                    ,\"comprehenr\"\n",
    "                   #add more packages if needed here\n",
    ")\n",
    "\n",
    "for (i in neededPackages){\n",
    "  if( !is.element(i, .packages(all.available = TRUE)) ) {\n",
    "    install.packages(i)\n",
    "  }\n",
    "  library(i,character.only = TRUE)\n",
    "}\n",
    "rm(i, neededPackages)\n",
    "\n",
    "wd <- getwd()\n",
    "toyota.df <- read_csv(\"cleanedToyotadata.csv\")\n",
    "head(toyota.df)"
   ]
  },
  {
   "cell_type": "code",
   "execution_count": 45,
   "metadata": {},
   "outputs": [],
   "source": [
    "toyota.df$Doors_clean<- to_list(for (x in toyota.df$Doors) if (x>=4) 1 else 0)\n",
    "toyota.df$Fuel_clean<- to_list(for (x in toyota.df$Fuel_Type) if (x=='Diesel') 1 else 0)\n",
    "toyota.df <- as.data.frame(lapply(toyota.df, unlist))\n"
   ]
  },
  {
   "cell_type": "code",
   "execution_count": 54,
   "metadata": {},
   "outputs": [],
   "source": [
    "toyota.df$Price_log<- log(toyota.df$Price)\n",
    "toyota.df$KM_log<- log(toyota.df$KM)    \n",
    "toyota.df$Age_log<- log(toyota.df$Age)    "
   ]
  },
  {
   "cell_type": "code",
   "execution_count": 47,
   "metadata": {},
   "outputs": [
    {
     "data": {
      "text/html": [
       "<table>\n",
       "<thead><tr><th scope=col>Price</th><th scope=col>Age</th><th scope=col>KM</th><th scope=col>Fuel_Type</th><th scope=col>HP</th><th scope=col>Metallic</th><th scope=col>Automatic</th><th scope=col>CC</th><th scope=col>Doors</th><th scope=col>Cylinders</th><th scope=col>...</th><th scope=col>QuartTax</th><th scope=col>Weight</th><th scope=col>Guarantee</th><th scope=col>BOVAG</th><th scope=col>Period</th><th scope=col>KM.sqrt</th><th scope=col>Doors_clean</th><th scope=col>Fuel_clean</th><th scope=col>Price_log</th><th scope=col>KM_log</th></tr></thead>\n",
       "<tbody>\n",
       "\t<tr><td>13500   </td><td>23      </td><td>46986   </td><td>Diesel  </td><td>90      </td><td>1       </td><td>0       </td><td>2000    </td><td>3       </td><td>4       </td><td>...     </td><td>210     </td><td>1165    </td><td>0       </td><td>1       </td><td>3       </td><td>216.7625</td><td>0       </td><td>1       </td><td>9.510445</td><td>10.75760</td></tr>\n",
       "\t<tr><td>13750   </td><td>23      </td><td>72937   </td><td>Diesel  </td><td>90      </td><td>1       </td><td>0       </td><td>2000    </td><td>3       </td><td>4       </td><td>...     </td><td>210     </td><td>1165    </td><td>0       </td><td>1       </td><td>3       </td><td>270.0685</td><td>0       </td><td>1       </td><td>9.528794</td><td>11.19735</td></tr>\n",
       "\t<tr><td>13950   </td><td>24      </td><td>41711   </td><td>Diesel  </td><td>90      </td><td>1       </td><td>0       </td><td>2000    </td><td>3       </td><td>4       </td><td>...     </td><td>210     </td><td>1165    </td><td>1       </td><td>1       </td><td>3       </td><td>204.2327</td><td>0       </td><td>1       </td><td>9.543235</td><td>10.63852</td></tr>\n",
       "\t<tr><td>14950   </td><td>26      </td><td>48000   </td><td>Diesel  </td><td>90      </td><td>0       </td><td>0       </td><td>2000    </td><td>3       </td><td>4       </td><td>...     </td><td>210     </td><td>1165    </td><td>1       </td><td>1       </td><td>3       </td><td>219.0890</td><td>0       </td><td>1       </td><td>9.612467</td><td>10.77896</td></tr>\n",
       "\t<tr><td>13750   </td><td>30      </td><td>38500   </td><td>Diesel  </td><td>90      </td><td>0       </td><td>0       </td><td>2000    </td><td>3       </td><td>4       </td><td>...     </td><td>210     </td><td>1170    </td><td>1       </td><td>1       </td><td>3       </td><td>196.2142</td><td>0       </td><td>1       </td><td>9.528794</td><td>10.55841</td></tr>\n",
       "\t<tr><td>12950   </td><td>32      </td><td>61000   </td><td>Diesel  </td><td>90      </td><td>0       </td><td>0       </td><td>2000    </td><td>3       </td><td>4       </td><td>...     </td><td>210     </td><td>1170    </td><td>0       </td><td>1       </td><td>3       </td><td>246.9818</td><td>0       </td><td>1       </td><td>9.468851</td><td>11.01863</td></tr>\n",
       "</tbody>\n",
       "</table>\n"
      ],
      "text/latex": [
       "\\begin{tabular}{r|lllllllllllllllllllll}\n",
       " Price & Age & KM & Fuel\\_Type & HP & Metallic & Automatic & CC & Doors & Cylinders & ... & QuartTax & Weight & Guarantee & BOVAG & Period & KM.sqrt & Doors\\_clean & Fuel\\_clean & Price\\_log & KM\\_log\\\\\n",
       "\\hline\n",
       "\t 13500    & 23       & 46986    & Diesel   & 90       & 1        & 0        & 2000     & 3        & 4        & ...      & 210      & 1165     & 0        & 1        & 3        & 216.7625 & 0        & 1        & 9.510445 & 10.75760\\\\\n",
       "\t 13750    & 23       & 72937    & Diesel   & 90       & 1        & 0        & 2000     & 3        & 4        & ...      & 210      & 1165     & 0        & 1        & 3        & 270.0685 & 0        & 1        & 9.528794 & 11.19735\\\\\n",
       "\t 13950    & 24       & 41711    & Diesel   & 90       & 1        & 0        & 2000     & 3        & 4        & ...      & 210      & 1165     & 1        & 1        & 3        & 204.2327 & 0        & 1        & 9.543235 & 10.63852\\\\\n",
       "\t 14950    & 26       & 48000    & Diesel   & 90       & 0        & 0        & 2000     & 3        & 4        & ...      & 210      & 1165     & 1        & 1        & 3        & 219.0890 & 0        & 1        & 9.612467 & 10.77896\\\\\n",
       "\t 13750    & 30       & 38500    & Diesel   & 90       & 0        & 0        & 2000     & 3        & 4        & ...      & 210      & 1170     & 1        & 1        & 3        & 196.2142 & 0        & 1        & 9.528794 & 10.55841\\\\\n",
       "\t 12950    & 32       & 61000    & Diesel   & 90       & 0        & 0        & 2000     & 3        & 4        & ...      & 210      & 1170     & 0        & 1        & 3        & 246.9818 & 0        & 1        & 9.468851 & 11.01863\\\\\n",
       "\\end{tabular}\n"
      ],
      "text/markdown": [
       "\n",
       "| Price | Age | KM | Fuel_Type | HP | Metallic | Automatic | CC | Doors | Cylinders | ... | QuartTax | Weight | Guarantee | BOVAG | Period | KM.sqrt | Doors_clean | Fuel_clean | Price_log | KM_log |\n",
       "|---|---|---|---|---|---|---|---|---|---|---|---|---|---|---|---|---|---|---|---|---|\n",
       "| 13500    | 23       | 46986    | Diesel   | 90       | 1        | 0        | 2000     | 3        | 4        | ...      | 210      | 1165     | 0        | 1        | 3        | 216.7625 | 0        | 1        | 9.510445 | 10.75760 |\n",
       "| 13750    | 23       | 72937    | Diesel   | 90       | 1        | 0        | 2000     | 3        | 4        | ...      | 210      | 1165     | 0        | 1        | 3        | 270.0685 | 0        | 1        | 9.528794 | 11.19735 |\n",
       "| 13950    | 24       | 41711    | Diesel   | 90       | 1        | 0        | 2000     | 3        | 4        | ...      | 210      | 1165     | 1        | 1        | 3        | 204.2327 | 0        | 1        | 9.543235 | 10.63852 |\n",
       "| 14950    | 26       | 48000    | Diesel   | 90       | 0        | 0        | 2000     | 3        | 4        | ...      | 210      | 1165     | 1        | 1        | 3        | 219.0890 | 0        | 1        | 9.612467 | 10.77896 |\n",
       "| 13750    | 30       | 38500    | Diesel   | 90       | 0        | 0        | 2000     | 3        | 4        | ...      | 210      | 1170     | 1        | 1        | 3        | 196.2142 | 0        | 1        | 9.528794 | 10.55841 |\n",
       "| 12950    | 32       | 61000    | Diesel   | 90       | 0        | 0        | 2000     | 3        | 4        | ...      | 210      | 1170     | 0        | 1        | 3        | 246.9818 | 0        | 1        | 9.468851 | 11.01863 |\n",
       "\n"
      ],
      "text/plain": [
       "  Price Age KM    Fuel_Type HP Metallic Automatic CC   Doors Cylinders ...\n",
       "1 13500 23  46986 Diesel    90 1        0         2000 3     4         ...\n",
       "2 13750 23  72937 Diesel    90 1        0         2000 3     4         ...\n",
       "3 13950 24  41711 Diesel    90 1        0         2000 3     4         ...\n",
       "4 14950 26  48000 Diesel    90 0        0         2000 3     4         ...\n",
       "5 13750 30  38500 Diesel    90 0        0         2000 3     4         ...\n",
       "6 12950 32  61000 Diesel    90 0        0         2000 3     4         ...\n",
       "  QuartTax Weight Guarantee BOVAG Period KM.sqrt  Doors_clean Fuel_clean\n",
       "1 210      1165   0         1     3      216.7625 0           1         \n",
       "2 210      1165   0         1     3      270.0685 0           1         \n",
       "3 210      1165   1         1     3      204.2327 0           1         \n",
       "4 210      1165   1         1     3      219.0890 0           1         \n",
       "5 210      1170   1         1     3      196.2142 0           1         \n",
       "6 210      1170   0         1     3      246.9818 0           1         \n",
       "  Price_log KM_log  \n",
       "1 9.510445  10.75760\n",
       "2 9.528794  11.19735\n",
       "3 9.543235  10.63852\n",
       "4 9.612467  10.77896\n",
       "5 9.528794  10.55841\n",
       "6 9.468851  11.01863"
      ]
     },
     "metadata": {},
     "output_type": "display_data"
    }
   ],
   "source": [
    "head(toyota.df)"
   ]
  },
  {
   "cell_type": "code",
   "execution_count": 59,
   "metadata": {},
   "outputs": [],
   "source": [
    "mod.df = toyota.df[ , -which(names(toyota.df) %in% c(\"Age_log\",\"KM.sqrt\",\"KM\",\"Period\",\"Price\",\"Fuel_Type\",\"Doors\"))]"
   ]
  },
  {
   "cell_type": "code",
   "execution_count": 60,
   "metadata": {},
   "outputs": [
    {
     "data": {
      "text/plain": [
       "\n",
       "Call:\n",
       "lm(formula = mod.df$Price_log ~ ., data = mod.df)\n",
       "\n",
       "Residuals:\n",
       "     Min       1Q   Median       3Q      Max \n",
       "-0.68048 -0.06611  0.00017  0.07663  0.52620 \n",
       "\n",
       "Coefficients: (1 not defined because of singularities)\n",
       "              Estimate Std. Error t value Pr(>|t|)    \n",
       "(Intercept)  8.576e+00  2.045e-01  41.932  < 2e-16 ***\n",
       "Age         -1.272e-02  4.189e-04 -30.355  < 2e-16 ***\n",
       "HP           3.074e-03  4.265e-04   7.207 1.52e-12 ***\n",
       "Metallic     1.118e-02  1.034e-02   1.081 0.280133    \n",
       "Automatic    2.292e-02  2.431e-02   0.943 0.346090    \n",
       "CC           8.341e-06  8.587e-06   0.971 0.331730    \n",
       "Cylinders           NA         NA      NA       NA    \n",
       "Gears       -1.062e-02  3.159e-02  -0.336 0.736771    \n",
       "QuartTax     7.291e-04  1.852e-04   3.938 9.07e-05 ***\n",
       "Weight       9.812e-04  1.438e-04   6.824 1.96e-11 ***\n",
       "Guarantee    3.842e-02  9.916e-03   3.874 0.000117 ***\n",
       "BOVAG        5.439e-02  1.707e-02   3.186 0.001511 ** \n",
       "Doors_clean -5.534e-03  1.017e-02  -0.544 0.586527    \n",
       "Fuel_clean  -1.609e-01  2.912e-02  -5.526 4.68e-08 ***\n",
       "KM_log      -8.487e-03  4.243e-03  -2.000 0.045872 *  \n",
       "---\n",
       "Signif. codes:  0 '***' 0.001 '**' 0.01 '*' 0.05 '.' 0.1 ' ' 1\n",
       "\n",
       "Residual standard error: 0.1211 on 680 degrees of freedom\n",
       "Multiple R-squared:  0.8354,\tAdjusted R-squared:  0.8322 \n",
       "F-statistic: 265.4 on 13 and 680 DF,  p-value: < 2.2e-16\n"
      ]
     },
     "metadata": {},
     "output_type": "display_data"
    }
   ],
   "source": [
    "fit = lm(mod.df$Price_log~.,data=mod.df)\n",
    "summary(fit)"
   ]
  },
  {
   "cell_type": "code",
   "execution_count": 61,
   "metadata": {},
   "outputs": [
    {
     "name": "stdout",
     "output_type": "stream",
     "text": [
      "Start:  AIC=-2916.3\n",
      "mod.df$Price_log ~ Age + HP + Metallic + Automatic + CC + Cylinders + \n",
      "    Gears + QuartTax + Weight + Guarantee + BOVAG + Doors_clean + \n",
      "    Fuel_clean + KM_log\n",
      "\n",
      "\n",
      "Step:  AIC=-2916.3\n",
      "mod.df$Price_log ~ Age + HP + Metallic + Automatic + CC + Gears + \n",
      "    QuartTax + Weight + Guarantee + BOVAG + Doors_clean + Fuel_clean + \n",
      "    KM_log\n",
      "\n",
      "              Df Sum of Sq     RSS     AIC\n",
      "- Gears        1    0.0017  9.9755 -2918.2\n",
      "- Doors_clean  1    0.0043  9.9781 -2918.0\n",
      "- Automatic    1    0.0130  9.9868 -2917.4\n",
      "- CC           1    0.0138  9.9876 -2917.3\n",
      "- Metallic     1    0.0171  9.9909 -2917.1\n",
      "<none>                      9.9738 -2916.3\n",
      "- KM_log       1    0.0587 10.0325 -2914.2\n",
      "- BOVAG        1    0.1488 10.1226 -2908.0\n",
      "- Guarantee    1    0.2202 10.1940 -2903.2\n",
      "- QuartTax     1    0.2274 10.2012 -2902.7\n",
      "- Fuel_clean   1    0.4478 10.4216 -2887.8\n",
      "- Weight       1    0.6830 10.6568 -2872.3\n",
      "- HP           1    0.7619 10.7357 -2867.2\n",
      "- Age          1   13.5151 23.4888 -2323.8\n",
      "\n",
      "Step:  AIC=-2918.19\n",
      "mod.df$Price_log ~ Age + HP + Metallic + Automatic + CC + QuartTax + \n",
      "    Weight + Guarantee + BOVAG + Doors_clean + Fuel_clean + KM_log\n",
      "\n",
      "              Df Sum of Sq     RSS     AIC\n",
      "- Doors_clean  1    0.0035  9.9790 -2919.9\n",
      "- Automatic    1    0.0131  9.9886 -2919.3\n",
      "- CC           1    0.0140  9.9895 -2919.2\n",
      "- Metallic     1    0.0176  9.9930 -2919.0\n",
      "<none>                      9.9755 -2918.2\n",
      "- KM_log       1    0.0593 10.0348 -2916.1\n",
      "- BOVAG        1    0.1502 10.1257 -2909.8\n",
      "- Guarantee    1    0.2199 10.1953 -2905.1\n",
      "- QuartTax     1    0.2285 10.2040 -2904.5\n",
      "- Fuel_clean   1    0.4582 10.4337 -2889.0\n",
      "- Weight       1    0.6819 10.6573 -2874.3\n",
      "- HP           1    0.8425 10.8180 -2863.9\n",
      "- Age          1   13.6901 23.6656 -2320.6\n",
      "\n",
      "Step:  AIC=-2919.94\n",
      "mod.df$Price_log ~ Age + HP + Metallic + Automatic + CC + QuartTax + \n",
      "    Weight + Guarantee + BOVAG + Fuel_clean + KM_log\n",
      "\n",
      "             Df Sum of Sq     RSS     AIC\n",
      "- CC          1    0.0136  9.9926 -2921.0\n",
      "- Automatic   1    0.0137  9.9927 -2921.0\n",
      "- Metallic    1    0.0161  9.9951 -2920.8\n",
      "<none>                     9.9790 -2919.9\n",
      "- KM_log      1    0.0601 10.0390 -2917.8\n",
      "- BOVAG       1    0.1539 10.1329 -2911.3\n",
      "- Guarantee   1    0.2190 10.1979 -2906.9\n",
      "- QuartTax    1    0.2300 10.2090 -2906.1\n",
      "- Fuel_clean  1    0.4575 10.4365 -2890.8\n",
      "- Weight      1    0.7037 10.6827 -2874.7\n",
      "- HP          1    0.8704 10.8493 -2863.9\n",
      "- Age         1   13.7803 23.7592 -2319.9\n",
      "\n",
      "Step:  AIC=-2920.99\n",
      "mod.df$Price_log ~ Age + HP + Metallic + Automatic + QuartTax + \n",
      "    Weight + Guarantee + BOVAG + Fuel_clean + KM_log\n",
      "\n",
      "             Df Sum of Sq     RSS     AIC\n",
      "- Metallic    1    0.0170 10.0097 -2921.8\n",
      "- Automatic   1    0.0204 10.0130 -2921.6\n",
      "<none>                     9.9926 -2921.0\n",
      "- KM_log      1    0.0589 10.0515 -2918.9\n",
      "- BOVAG       1    0.1453 10.1379 -2913.0\n",
      "- Guarantee   1    0.2167 10.2093 -2908.1\n",
      "- QuartTax    1    0.2359 10.2285 -2906.8\n",
      "- Fuel_clean  1    0.4461 10.4387 -2892.7\n",
      "- Weight      1    0.7115 10.7041 -2875.3\n",
      "- HP          1    0.8969 10.8895 -2863.3\n",
      "- Age         1   13.7698 23.7624 -2321.8\n",
      "\n",
      "Step:  AIC=-2921.81\n",
      "mod.df$Price_log ~ Age + HP + Automatic + QuartTax + Weight + \n",
      "    Guarantee + BOVAG + Fuel_clean + KM_log\n",
      "\n",
      "             Df Sum of Sq    RSS     AIC\n",
      "- Automatic   1    0.0201 10.030 -2922.4\n",
      "<none>                    10.010 -2921.8\n",
      "- KM_log      1    0.0586 10.068 -2919.8\n",
      "- BOVAG       1    0.1402 10.150 -2914.2\n",
      "- QuartTax    1    0.2333 10.243 -2907.8\n",
      "- Guarantee   1    0.2385 10.248 -2907.5\n",
      "- Fuel_clean  1    0.4452 10.455 -2893.6\n",
      "- Weight      1    0.7172 10.727 -2875.8\n",
      "- HP          1    0.8927 10.902 -2864.5\n",
      "- Age         1   14.0229 24.032 -2316.0\n",
      "\n",
      "Step:  AIC=-2922.42\n",
      "mod.df$Price_log ~ Age + HP + QuartTax + Weight + Guarantee + \n",
      "    BOVAG + Fuel_clean + KM_log\n",
      "\n",
      "             Df Sum of Sq    RSS     AIC\n",
      "<none>                    10.030 -2922.4\n",
      "- KM_log      1    0.0567 10.086 -2920.5\n",
      "- BOVAG       1    0.1424 10.172 -2914.6\n",
      "- QuartTax    1    0.2267 10.257 -2908.9\n",
      "- Guarantee   1    0.2377 10.268 -2908.2\n",
      "- Fuel_clean  1    0.4683 10.498 -2892.8\n",
      "- Weight      1    0.7756 10.805 -2872.7\n",
      "- HP          1    0.8822 10.912 -2865.9\n",
      "- Age         1   14.0040 24.034 -2317.9\n"
     ]
    }
   ],
   "source": [
    "backAIC = step(fit,direction=\"backward\",data=mod.fit)"
   ]
  },
  {
   "cell_type": "code",
   "execution_count": 63,
   "metadata": {},
   "outputs": [
    {
     "data": {
      "text/plain": [
       "\n",
       "Call:\n",
       "lm(formula = mod.df$Price_log ~ Age + HP + QuartTax + Weight + \n",
       "    Guarantee + BOVAG + Fuel_clean + KM_log, data = mod.df)\n",
       "\n",
       "Residuals:\n",
       "     Min       1Q   Median       3Q      Max \n",
       "-0.69275 -0.06516  0.00038  0.07668  0.53311 \n",
       "\n",
       "Coefficients:\n",
       "              Estimate Std. Error t value Pr(>|t|)    \n",
       "(Intercept)  8.5293853  0.1450006  58.823  < 2e-16 ***\n",
       "Age         -0.0127703  0.0004129 -30.926  < 2e-16 ***\n",
       "HP           0.0030530  0.0003933   7.762 3.04e-14 ***\n",
       "QuartTax     0.0007255  0.0001844   3.935 9.17e-05 ***\n",
       "Weight       0.0009961  0.0001369   7.278 9.29e-13 ***\n",
       "Guarantee    0.0395185  0.0098073   4.029 6.22e-05 ***\n",
       "BOVAG        0.0525787  0.0168580   3.119  0.00189 ** \n",
       "Fuel_clean  -0.1598118  0.0282581  -5.655 2.28e-08 ***\n",
       "KM_log      -0.0083339  0.0042337  -1.968  0.04942 *  \n",
       "---\n",
       "Signif. codes:  0 '***' 0.001 '**' 0.01 '*' 0.05 '.' 0.1 ' ' 1\n",
       "\n",
       "Residual standard error: 0.121 on 685 degrees of freedom\n",
       "Multiple R-squared:  0.8344,\tAdjusted R-squared:  0.8325 \n",
       "F-statistic: 431.5 on 8 and 685 DF,  p-value: < 2.2e-16\n"
      ]
     },
     "metadata": {},
     "output_type": "display_data"
    }
   ],
   "source": [
    "summary(backAIC)"
   ]
  },
  {
   "cell_type": "code",
   "execution_count": 66,
   "metadata": {},
   "outputs": [
    {
     "data": {
      "text/html": [
       "<dl class=dl-horizontal>\n",
       "\t<dt>Age</dt>\n",
       "\t\t<dd>2.00689557571775</dd>\n",
       "\t<dt>HP</dt>\n",
       "\t\t<dd>2.10392805725404</dd>\n",
       "\t<dt>QuartTax</dt>\n",
       "\t\t<dd>3.85062533064723</dd>\n",
       "\t<dt>Weight</dt>\n",
       "\t\t<dd>3.42213684026335</dd>\n",
       "\t<dt>Guarantee</dt>\n",
       "\t\t<dd>1.13758692676321</dd>\n",
       "\t<dt>BOVAG</dt>\n",
       "\t\t<dd>1.20609040473505</dd>\n",
       "\t<dt>Fuel_clean</dt>\n",
       "\t\t<dd>5.12230103720008</dd>\n",
       "\t<dt>KM_log</dt>\n",
       "\t\t<dd>1.60282619986747</dd>\n",
       "</dl>\n"
      ],
      "text/latex": [
       "\\begin{description*}\n",
       "\\item[Age] 2.00689557571775\n",
       "\\item[HP] 2.10392805725404\n",
       "\\item[QuartTax] 3.85062533064723\n",
       "\\item[Weight] 3.42213684026335\n",
       "\\item[Guarantee] 1.13758692676321\n",
       "\\item[BOVAG] 1.20609040473505\n",
       "\\item[Fuel\\textbackslash{}\\_clean] 5.12230103720008\n",
       "\\item[KM\\textbackslash{}\\_log] 1.60282619986747\n",
       "\\end{description*}\n"
      ],
      "text/markdown": [
       "Age\n",
       ":   2.00689557571775HP\n",
       ":   2.10392805725404QuartTax\n",
       ":   3.85062533064723Weight\n",
       ":   3.42213684026335Guarantee\n",
       ":   1.13758692676321BOVAG\n",
       ":   1.20609040473505Fuel_clean\n",
       ":   5.12230103720008KM_log\n",
       ":   1.60282619986747\n",
       "\n"
      ],
      "text/plain": [
       "       Age         HP   QuartTax     Weight  Guarantee      BOVAG Fuel_clean \n",
       "  2.006896   2.103928   3.850625   3.422137   1.137587   1.206090   5.122301 \n",
       "    KM_log \n",
       "  1.602826 "
      ]
     },
     "metadata": {},
     "output_type": "display_data"
    }
   ],
   "source": [
    "vif(backAIC)"
   ]
  },
  {
   "cell_type": "code",
   "execution_count": 81,
   "metadata": {},
   "outputs": [],
   "source": [
    "mod.fit.int1 = lm(Price_log~Age + HP + QuartTax+(QuartTax*Fuel_clean) + Weight + Guarantee + \n",
    "    BOVAG +Fuel_clean + KM_log + (KM_log*Age),data=mod.df)"
   ]
  },
  {
   "cell_type": "code",
   "execution_count": 82,
   "metadata": {},
   "outputs": [
    {
     "data": {
      "text/plain": [
       "\n",
       "Call:\n",
       "lm(formula = Price_log ~ Age + HP + QuartTax + (QuartTax * Fuel_clean) + \n",
       "    Weight + Guarantee + BOVAG + Fuel_clean + KM_log + (KM_log * \n",
       "    Age), data = mod.df)\n",
       "\n",
       "Residuals:\n",
       "     Min       1Q   Median       3Q      Max \n",
       "-0.55132 -0.06752  0.00282  0.06650  0.48150 \n",
       "\n",
       "Coefficients:\n",
       "                      Estimate Std. Error t value Pr(>|t|)    \n",
       "(Intercept)          8.3740562  0.1395902  59.990  < 2e-16 ***\n",
       "Age                 -0.0044056  0.0019673  -2.239  0.02545 *  \n",
       "HP                   0.0028344  0.0003708   7.644 7.17e-14 ***\n",
       "QuartTax            -0.0004822  0.0002243  -2.150  0.03189 *  \n",
       "Fuel_clean          -0.5405066  0.0504380 -10.716  < 2e-16 ***\n",
       "Weight               0.0010956  0.0001292   8.480  < 2e-16 ***\n",
       "Guarantee            0.0418452  0.0092706   4.514 7.50e-06 ***\n",
       "BOVAG                0.0460120  0.0158746   2.898  0.00387 ** \n",
       "KM_log               0.0053428  0.0047217   1.132  0.25822    \n",
       "QuartTax:Fuel_clean  0.0027142  0.0003040   8.927  < 2e-16 ***\n",
       "Age:KM_log          -0.0007087  0.0001714  -4.136 3.97e-05 ***\n",
       "---\n",
       "Signif. codes:  0 '***' 0.001 '**' 0.01 '*' 0.05 '.' 0.1 ' ' 1\n",
       "\n",
       "Residual standard error: 0.1138 on 683 degrees of freedom\n",
       "Multiple R-squared:  0.8539,\tAdjusted R-squared:  0.8518 \n",
       "F-statistic: 399.2 on 10 and 683 DF,  p-value: < 2.2e-16\n"
      ]
     },
     "metadata": {},
     "output_type": "display_data"
    }
   ],
   "source": [
    "summary(mod.fit.int1)"
   ]
  },
  {
   "cell_type": "code",
   "execution_count": null,
   "metadata": {},
   "outputs": [],
   "source": []
  }
 ],
 "metadata": {
  "kernelspec": {
   "display_name": "R",
   "language": "R",
   "name": "ir"
  },
  "language_info": {
   "codemirror_mode": "r",
   "file_extension": ".r",
   "mimetype": "text/x-r-source",
   "name": "R",
   "pygments_lexer": "r",
   "version": "3.6.1"
  }
 },
 "nbformat": 4,
 "nbformat_minor": 4
}
